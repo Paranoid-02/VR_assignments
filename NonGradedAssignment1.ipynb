{
 "cells": [
  {
   "cell_type": "markdown",
   "id": "f44f06f0-d77e-436a-a4a1-ff2b53f285b0",
   "metadata": {},
   "source": [
    "## Q1 RGB to Grayscale and Binary Conversion"
   ]
  },
  {
   "cell_type": "code",
   "execution_count": 1,
   "id": "c043fe58-5f1f-4d1d-9ee4-052b53a52c28",
   "metadata": {},
   "outputs": [],
   "source": [
    "from PIL import Image\n",
    "import numpy as np\n",
    "\n",
    "def rgb_to_grayscale(rgb_image):\n",
    "    grayscale = []\n",
    "    for row in rgb_image:\n",
    "        gray_row = []\n",
    "        for pixel in row:\n",
    "            # Using luminosity method: 0.21 R + 0.72 G + 0.07 B\n",
    "            gray = int(0.21 * pixel[0] + 0.72 * pixel[1] + 0.07 * pixel[2])\n",
    "            gray_row.append(gray)\n",
    "        grayscale.append(gray_row)\n",
    "    return grayscale\n",
    "\n",
    "def grayscale_to_binary(grayscale_image, threshold=127):\n",
    "    binary = []\n",
    "    for row in grayscale_image:\n",
    "        binary_row = []\n",
    "        for pixel in row:\n",
    "            binary_row.append(255 if pixel > threshold else 0)\n",
    "        binary.append(binary_row)\n",
    "    return binary\n",
    "\n",
    "image_path = 'car-photo.png'\n",
    "image = Image.open(image_path)\n",
    "rgb_image = np.array(image)\n",
    "\n",
    "grayscale_image = rgb_to_grayscale(rgb_image)\n",
    "binary_image = grayscale_to_binary(grayscale_image)\n",
    "\n",
    "# grayscale_image_pil = Image.fromarray(np.array(grayscale_image, dtype=np.uint8))\n",
    "# grayscale_image_pil.save('grayscale_image.jpg')\n",
    "\n",
    "binary_image_pil = Image.fromarray(np.array(binary_image, dtype=np.uint8))\n",
    "binary_image_pil.save('binary_image.png')\n",
    "\n",
    "# grayscale_image_pil.show()\n",
    "binary_image_pil.show()"
   ]
  },
  {
   "cell_type": "markdown",
   "id": "da834105-6ba8-4aad-8e86-c00bf5d6da52",
   "metadata": {},
   "source": [
    "## Q2 Splitting RGB channel"
   ]
  },
  {
   "cell_type": "code",
   "execution_count": 15,
   "id": "d75dbb16-c6c4-4377-8067-5d6f3cf9be4c",
   "metadata": {},
   "outputs": [],
   "source": [
    "def split_channels(rgb_image):\n",
    "    red = []\n",
    "    green = []\n",
    "    blue = []\n",
    "    for row in rgb_image:\n",
    "        r_row, g_row, b_row = [], [], []\n",
    "        for pixel in row:\n",
    "            r_row.append(pixel[0])\n",
    "            g_row.append(pixel[1])\n",
    "            b_row.append(pixel[2])\n",
    "        red.append(r_row)\n",
    "        green.append(g_row)\n",
    "        blue.append(b_row)\n",
    "    return red, green, blue\n",
    "\n",
    "image_path = 'car-photo.png'\n",
    "image = Image.open(image_path)\n",
    "rgb_image = np.array(image)\n",
    "\n",
    "red_channel, green_channel, blue_channel = split_channels(rgb_image)\n",
    "\n",
    "red_channel_image_pil = Image.fromarray(np.array(red_channel, dtype=np.uint8))\n",
    "red_channel_image_pil.save('red_channel_image.png')\n",
    "green_channel_image_pil = Image.fromarray(np.array(green_channel, dtype=np.uint8))\n",
    "green_channel_image_pil.save('green_channel_image.png')\n",
    "blue_channel_image_pil = Image.fromarray(np.array(blue_channel, dtype=np.uint8))\n",
    "blue_channel_image_pil.save('blue_channel_image.png')\n",
    "\n",
    "red_channel_image_pil.show()\n",
    "green_channel_image_pil.show()\n",
    "blue_channel_image_pil.show()"
   ]
  },
  {
   "cell_type": "markdown",
   "id": "eea4bd2a-b01e-4afc-90fa-fd97bb0d3824",
   "metadata": {},
   "source": [
    "## Q3 RGB to different Color Space Conversion"
   ]
  },
  {
   "cell_type": "code",
   "execution_count": null,
   "id": "9b544d5b-4667-4400-afa2-5bfd975a2c74",
   "metadata": {},
   "outputs": [
    {
     "name": "stderr",
     "output_type": "stream",
     "text": [
      "2025-01-10 21:35:20.277 python[12757:3313841] +[IMKClient subclass]: chose IMKClient_Modern\n",
      "2025-01-10 21:35:20.278 python[12757:3313841] +[IMKInputSession subclass]: chose IMKInputSession_Modern\n"
     ]
    }
   ],
   "source": [
    "import cv2\n",
    "from matplotlib import pyplot as plt\n",
    "\n",
    "# Load the image\n",
    "img = cv2.imread('car-photo.png')\n",
    "\n",
    "# Convert to HSV\n",
    "hsv = cv2.cvtColor(img, cv2.COLOR_BGR2HSV)\n",
    "\n",
    "# Convert to LAB\n",
    "lab = cv2.cvtColor(img, cv2.COLOR_BGR2LAB)\n",
    "\n",
    "# Split channels\n",
    "h, s, v = cv2.split(hsv)\n",
    "l, a, b = cv2.split(lab)\n",
    "\n",
    "# Display the original and converted images\n",
    "cv2.imshow('Original Image', img)\n",
    "cv2.imshow('HSV Image', hsv)\n",
    "cv2.imshow('LAB Image', lab)\n",
    "\n",
    "# Display the individual channels\n",
    "cv2.imshow('Hue Channel', h)\n",
    "cv2.imshow('Saturation Channel', s)\n",
    "cv2.imshow('Value Channel', v)\n",
    "cv2.imshow('L Channel', l)\n",
    "cv2.imshow('A Channel', a)\n",
    "cv2.imshow('B Channel', b)\n",
    "\n",
    "# Wait for a key press and close the windows\n",
    "cv2.waitKey(0)\n",
    "cv2.destroyAllWindows()"
   ]
  },
  {
   "cell_type": "markdown",
   "id": "61cd71bd-8920-4846-96c8-517e40839cc4",
   "metadata": {},
   "source": [
    "## Q4 Downsampling and Upsampling"
   ]
  },
  {
   "cell_type": "code",
   "execution_count": 3,
   "id": "5f34a671-21f3-4b7b-95a7-b1e8e3200f8b",
   "metadata": {},
   "outputs": [],
   "source": [
    "def downsample(image, factor):\n",
    "    height, width = len(image), len(image[0])\n",
    "    new_height, new_width = height//factor, width//factor\n",
    "    \n",
    "    downsampled = []\n",
    "    for i in range(0, height, factor):\n",
    "        row = []\n",
    "        for j in range(0, width, factor):\n",
    "            row.append(image[i][j])\n",
    "        downsampled.append(row)\n",
    "    return downsampled\n",
    "\n",
    "def upsample(image, factor):\n",
    "    height, width = len(image), len(image[0])\n",
    "    upsampled = []\n",
    "    for i in range(height):\n",
    "        row = []\n",
    "        for j in range(width):\n",
    "            for _ in range(factor):\n",
    "                row.append(image[i][j])\n",
    "        for _ in range(factor):\n",
    "            upsampled.append(row[:])\n",
    "    return upsampled"
   ]
  },
  {
   "cell_type": "code",
   "execution_count": null,
   "id": "af9a8fb1-0a82-4015-abcc-193f2fff0cf1",
   "metadata": {},
   "outputs": [
    {
     "name": "stderr",
     "output_type": "stream",
     "text": [
      "2025-01-10 22:07:18.303 python[18456:3421325] +[IMKClient subclass]: chose IMKClient_Modern\n",
      "2025-01-10 22:07:18.303 python[18456:3421325] +[IMKInputSession subclass]: chose IMKInputSession_Modern\n"
     ]
    }
   ],
   "source": [
    "import cv2\n",
    "from matplotlib import pyplot as plt\n",
    "\n",
    "# Load the image\n",
    "image_path = 'car-photo.png'\n",
    "img = cv2.imread(image_path)\n",
    "\n",
    "# Downsample the image by a factor of 2\n",
    "downsampled_img = cv2.pyrDown(img)\n",
    "\n",
    "# Upsample the image back to the original size\n",
    "upsampled_img = cv2.pyrUp(downsampled_img)\n",
    "\n",
    "# Display the original, downsampled, and upsampled images\n",
    "cv2.imshow('Original Image', img)\n",
    "cv2.imshow('Downsampled Image', downsampled_img)\n",
    "cv2.imshow('Upsampled Image', upsampled_img)\n",
    "\n",
    "# Wait for a key press and close the windows\n",
    "cv2.waitKey(0)\n",
    "cv2.destroyAllWindows()"
   ]
  }
 ],
 "metadata": {
  "kernelspec": {
   "display_name": "Python 3 (ipykernel)",
   "language": "python",
   "name": "python3"
  },
  "language_info": {
   "codemirror_mode": {
    "name": "ipython",
    "version": 3
   },
   "file_extension": ".py",
   "mimetype": "text/x-python",
   "name": "python",
   "nbconvert_exporter": "python",
   "pygments_lexer": "ipython3",
   "version": "3.12.8"
  }
 },
 "nbformat": 4,
 "nbformat_minor": 5
}
