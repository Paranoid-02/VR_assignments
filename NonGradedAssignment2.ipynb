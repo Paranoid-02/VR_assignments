{
 "cells": [
  {
   "cell_type": "code",
   "execution_count": 23,
   "metadata": {},
   "outputs": [],
   "source": [
    "import cv2\n",
    "import numpy as np"
   ]
  },
  {
   "cell_type": "code",
   "execution_count": 39,
   "metadata": {},
   "outputs": [],
   "source": [
    "def image_negative(image):\n",
    "    img = cv2.imread(image, cv2.IMREAD_GRAYSCALE)\n",
    "    L = 256\n",
    "    img_negative = L - 1 - img\n",
    "    cv2.imwrite('negative.jpg', img_negative)\n",
    "\n",
    "image = 'grayscale_image.jpg'\n",
    "image_negative(image)"
   ]
  },
  {
   "cell_type": "code",
   "execution_count": 32,
   "metadata": {},
   "outputs": [],
   "source": [
    "def log_transformation(image, c=1):\n",
    "    img = cv2.imread(image, cv2.IMREAD_GRAYSCALE)\n",
    "    log_transformed_img = c * np.log1p(img.astype(float))\n",
    "    log_transformed_img = cv2.normalize(log_transformed_img, None, 0, 255, cv2.NORM_MINMAX, cv2.CV_8U)\n",
    "    cv2.imwrite('log_transformed.jpg', log_transformed_img)\n",
    "\n",
    "imgage = 'car-photo.png'\n",
    "log_transformation(image)"
   ]
  },
  {
   "cell_type": "code",
   "execution_count": 33,
   "metadata": {},
   "outputs": [],
   "source": [
    "def image_whitening(image):\n",
    "    img = cv2.imread(image, cv2.IMREAD_GRAYSCALE)\n",
    "    whitened_img = (img - np.mean(img)) / np.std(img)\n",
    "\n",
    "    whitened_img = cv2.normalize(whitened_img, None, 0, 255, cv2.NORM_MINMAX, cv2.CV_8U)\n",
    "    cv2.imwrite('whitened_img.png', whitened_img)\n",
    "\n",
    "image = 'car-photo.png'\n",
    "image_whitening(image)"
   ]
  },
  {
   "cell_type": "code",
   "execution_count": 47,
   "metadata": {},
   "outputs": [],
   "source": [
    "def contrast_stretching(image):\n",
    "    \"\"\"\n",
    "    Stretches the intensity values of a grayscale image \n",
    "    to span the entire range [0, 255].\n",
    "    \"\"\"\n",
    "    img = cv2.imread(image, cv2.IMREAD_GRAYSCALE)\n",
    "\n",
    "    # Calculate the percentile values for lower and upper bounds\n",
    "    p_low = 5  # 5th percentile\n",
    "    p_high = 95  # 95th percentile\n",
    "    min_val = np.percentile(img, p_low)\n",
    "    max_val = np.percentile(img, p_high)\n",
    "\n",
    "    # Perform the contrast stretching\n",
    "    stretched_img = 255 * (img - min_val) / (max_val - min_val)\n",
    "    stretched_img = np.clip(stretched_img, 0, 255).astype(np.uint8) \n",
    "\n",
    "    cv2.imwrite('contrast_stretched.jpg', stretched_img)\n",
    "\n",
    "image = 'grayscale_image.jpg'\n",
    "contrast_stretching(image)"
   ]
  },
  {
   "cell_type": "code",
   "execution_count": 35,
   "metadata": {},
   "outputs": [
    {
     "data": {
      "text/plain": [
       "True"
      ]
     },
     "execution_count": 35,
     "metadata": {},
     "output_type": "execute_result"
    }
   ],
   "source": [
    "def histogram_equalization(image_path):\n",
    "  \"\"\"Performs histogram equalization on an image to enhance its contrast.\"\"\"\n",
    "  img = cv2.imread(image_path, cv2.IMREAD_GRAYSCALE)\n",
    "  equalized_img = cv2.equalizeHist(img)\n",
    "  return equalized_img\n",
    "\n",
    "image = 'car-photo.png'\n",
    "equalized_img = histogram_equalization(image)\n",
    "cv2.imwrite('equalized_img.png', equalized_img)"
   ]
  },
  {
   "cell_type": "code",
   "execution_count": null,
   "metadata": {},
   "outputs": [],
   "source": []
  }
 ],
 "metadata": {
  "kernelspec": {
   "display_name": "env",
   "language": "python",
   "name": "python3"
  },
  "language_info": {
   "codemirror_mode": {
    "name": "ipython",
    "version": 3
   },
   "file_extension": ".py",
   "mimetype": "text/x-python",
   "name": "python",
   "nbconvert_exporter": "python",
   "pygments_lexer": "ipython3",
   "version": "3.12.8"
  }
 },
 "nbformat": 4,
 "nbformat_minor": 2
}
